{
 "cells": [
  {
   "cell_type": "code",
   "execution_count": null,
   "id": "03a9fa28",
   "metadata": {},
   "outputs": [],
   "source": [
    "import pandas as pd\n",
    "import numpy as np\n",
    "import matplotlib.pyplot as plt\n",
    "import seaborn as sns\n"
   ]
  },
  {
   "cell_type": "code",
   "execution_count": null,
   "id": "ec5021a5",
   "metadata": {},
   "outputs": [],
   "source": [
    "confirmed = pd.read_csv('time_series_covid19_confirmed_global.csv')\n",
    "deaths = pd.read_csv('time_series_covid19_deaths_global.csv')\n",
    "recovered = pd.read_csv('time_series_covid19_recovered_global.csv')\n"
   ]
  },
  {
   "cell_type": "code",
   "execution_count": null,
   "id": "04f1f133",
   "metadata": {},
   "outputs": [],
   "source": [
    "confirmed = confirmed.groupby('Country/Region').sum().drop(columns=['Lat', 'Long'])\n",
    "deaths = deaths.groupby('Country/Region').sum().drop(columns=['Lat', 'Long'])\n",
    "recovered = recovered.groupby('Country/Region').sum().drop(columns=['Lat', 'Long'])\n"
   ]
  },
  {
   "cell_type": "code",
   "execution_count": null,
   "id": "f443f6c9",
   "metadata": {},
   "outputs": [],
   "source": [
    "confirmed_T = confirmed.T\n",
    "deaths_T = deaths.T\n",
    "recovered_T = recovered.T\n",
    "\n",
    "confirmed_T.index = pd.to_datetime(confirmed_T.index)\n",
    "deaths_T.index = pd.to_datetime(deaths_T.index)\n",
    "recovered_T.index = pd.to_datetime(recovered_T.index)\n"
   ]
  },
  {
   "cell_type": "code",
   "execution_count": null,
   "id": "60e9bfa7",
   "metadata": {},
   "outputs": [],
   "source": [
    "total_confirmed = confirmed_T.sum(axis=1)\n",
    "total_deaths = deaths_T.sum(axis=1)\n",
    "total_recovered = recovered_T.sum(axis=1)\n",
    "\n",
    "plt.figure(figsize=(12,6))\n",
    "plt.plot(total_confirmed, label='Confirmed')\n",
    "plt.plot(total_recovered, label='Recovered')\n",
    "plt.plot(total_deaths, label='Deaths')\n",
    "plt.title('Global Cumulative COVID-19 Cases')\n",
    "plt.xlabel('Date')\n",
    "plt.ylabel('Number of Cases')\n",
    "plt.legend()\n",
    "plt.grid()\n",
    "plt.tight_layout()\n",
    "plt.show()\n"
   ]
  },
  {
   "cell_type": "code",
   "execution_count": null,
   "id": "c3e4d674",
   "metadata": {},
   "outputs": [],
   "source": [
    "countries = ['India', 'US', 'Brazil', 'Russia']\n",
    "plt.figure(figsize=(14,6))\n",
    "for country in countries:\n",
    "    plt.plot(confirmed_T[country], label=country)\n",
    "plt.title('COVID-19 Confirmed Cases: Country Comparison')\n",
    "plt.xlabel('Date')\n",
    "plt.ylabel('Confirmed Cases')\n",
    "plt.legend()\n",
    "plt.grid()\n",
    "plt.tight_layout()\n",
    "plt.show()\n"
   ]
  },
  {
   "cell_type": "code",
   "execution_count": null,
   "id": "dc230461",
   "metadata": {},
   "outputs": [],
   "source": [
    "plt.figure(figsize=(12,6))\n",
    "plt.stackplot(confirmed_T.index, \n",
    "              total_confirmed, total_recovered, total_deaths, \n",
    "              labels=['Confirmed', 'Recovered', 'Deaths'],\n",
    "              colors=['orange', 'green', 'red'])\n",
    "plt.legend(loc='upper left')\n",
    "plt.title('Stacked Area Chart of Global COVID-19 Cases')\n",
    "plt.xlabel('Date')\n",
    "plt.ylabel('Number of Cases')\n",
    "plt.tight_layout()\n",
    "plt.show()\n"
   ]
  },
  {
   "cell_type": "code",
   "execution_count": null,
   "id": "d9ea16e7",
   "metadata": {},
   "outputs": [],
   "source": [
    "latest = confirmed.iloc[:, -1]  # Last column\n",
    "top_15 = latest.sort_values(ascending=False).head(15)\n",
    "\n",
    "plt.figure(figsize=(10,6))\n",
    "sns.heatmap(np.log10(top_15.values).reshape(1, -1), \n",
    "            annot=True, fmt=\".2f\", \n",
    "            yticklabels=['Log(Confirmed Cases)'], \n",
    "            xticklabels=top_15.index, cmap='Reds')\n",
    "plt.title('Top 15 Countries with Highest Confirmed COVID-19 Cases')\n",
    "plt.tight_layout()\n",
    "plt.show()\n"
   ]
  }
 ],
 "metadata": {
  "kernelspec": {
   "display_name": "Python 3 (ipykernel)",
   "language": "python",
   "name": "python3"
  },
  "language_info": {
   "codemirror_mode": {
    "name": "ipython",
    "version": 3
   },
   "file_extension": ".py",
   "mimetype": "text/x-python",
   "name": "python",
   "nbconvert_exporter": "python",
   "pygments_lexer": "ipython3",
   "version": "3.10.9"
  }
 },
 "nbformat": 4,
 "nbformat_minor": 5
}
