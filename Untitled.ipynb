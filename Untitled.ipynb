{
 "cells": [
  {
   "cell_type": "code",
   "execution_count": 2,
   "id": "31ca04a5",
   "metadata": {},
   "outputs": [],
   "source": [
    "import pandas as pd\n",
    "import numpy as np\n",
    "import matplotlib.pyplot as plt\n",
    "import seaborn as sns\n"
   ]
  },
  {
   "cell_type": "code",
   "execution_count": 3,
   "id": "aec5aa70",
   "metadata": {},
   "outputs": [],
   "source": [
    "confirmed = pd.read_csv('time_series_covid19_confirmed_global.csv')\n",
    "deaths = pd.read_csv('time_series_covid19_deaths_global.csv')\n",
    "recovered = pd.read_csv('time_series_covid19_recovered_global.csv')\n"
   ]
  },
  {
   "cell_type": "code",
   "execution_count": 4,
   "id": "a535cca7",
   "metadata": {},
   "outputs": [
    {
     "name": "stderr",
     "output_type": "stream",
     "text": [
      "C:\\Users\\PC\\AppData\\Local\\Temp\\ipykernel_10148\\3493007060.py:1: FutureWarning: The default value of numeric_only in DataFrameGroupBy.sum is deprecated. In a future version, numeric_only will default to False. Either specify numeric_only or select only columns which should be valid for the function.\n",
      "  confirmed = confirmed.groupby('Country/Region').sum().drop(columns=['Lat', 'Long'])\n",
      "C:\\Users\\PC\\AppData\\Local\\Temp\\ipykernel_10148\\3493007060.py:2: FutureWarning: The default value of numeric_only in DataFrameGroupBy.sum is deprecated. In a future version, numeric_only will default to False. Either specify numeric_only or select only columns which should be valid for the function.\n",
      "  deaths = deaths.groupby('Country/Region').sum().drop(columns=['Lat', 'Long'])\n",
      "C:\\Users\\PC\\AppData\\Local\\Temp\\ipykernel_10148\\3493007060.py:3: FutureWarning: The default value of numeric_only in DataFrameGroupBy.sum is deprecated. In a future version, numeric_only will default to False. Either specify numeric_only or select only columns which should be valid for the function.\n",
      "  recovered = recovered.groupby('Country/Region').sum().drop(columns=['Lat', 'Long'])\n"
     ]
    }
   ],
   "source": [
    "confirmed = confirmed.groupby('Country/Region').sum().drop(columns=['Lat', 'Long'])\n",
    "deaths = deaths.groupby('Country/Region').sum().drop(columns=['Lat', 'Long'])\n",
    "recovered = recovered.groupby('Country/Region').sum().drop(columns=['Lat', 'Long'])\n"
   ]
  },
  {
   "cell_type": "code",
   "execution_count": null,
   "id": "b3404077",
   "metadata": {},
   "outputs": [],
   "source": [
    "confirmed_T = confirmed.T\n",
    "deaths_T = deaths.T\n",
    "recovered_T = recovered.T\n",
    "\n",
    "confirmed_T.index = pd.to_datetime(confirmed_T.index)\n",
    "deaths_T.index = pd.to_datetime(deaths_T.index)\n",
    "recovered_T.index = pd.to_datetime(recovered_T.index)\n"
   ]
  },
  {
   "cell_type": "code",
   "execution_count": null,
   "id": "8a6764fb",
   "metadata": {},
   "outputs": [],
   "source": [
    "total_confirmed = confirmed_T.sum(axis=1)\n",
    "total_deaths = deaths_T.sum(axis=1)\n",
    "total_recovered = recovered_T.sum(axis=1)\n",
    "\n",
    "plt.figure(figsize=(12,6))\n",
    "plt.plot(total_confirmed, label='Confirmed')\n",
    "plt.plot(total_recovered, label='Recovered')\n",
    "plt.plot(total_deaths, label='Deaths')\n",
    "plt.title('Global Cumulative COVID-19 Cases')\n",
    "plt.xlabel('Date')\n",
    "plt.ylabel('Number of Cases')\n",
    "plt.legend()\n",
    "plt.grid()\n",
    "plt.tight_layout()\n",
    "plt.show()\n"
   ]
  },
  {
   "cell_type": "code",
   "execution_count": null,
   "id": "4ff43742",
   "metadata": {},
   "outputs": [],
   "source": [
    "countries = ['India', 'US', 'Brazil', 'Russia']\n",
    "plt.figure(figsize=(14,6))\n",
    "for country in countries:\n",
    "    plt.plot(confirmed_T[country], label=country)\n",
    "plt.title('COVID-19 Confirmed Cases: Country Comparison')\n",
    "plt.xlabel('Date')\n",
    "plt.ylabel('Confirmed Cases')\n",
    "plt.legend()\n",
    "plt.grid()\n",
    "plt.tight_layout()\n",
    "plt.show()\n"
   ]
  },
  {
   "cell_type": "code",
   "execution_count": null,
   "id": "6c2343b6",
   "metadata": {},
   "outputs": [],
   "source": [
    "plt.figure(figsize=(12,6))\n",
    "plt.stackplot(confirmed_T.index, \n",
    "              total_confirmed, total_recovered, total_deaths, \n",
    "              labels=['Confirmed', 'Recovered', 'Deaths'],\n",
    "              colors=['orange', 'green', 'red'])\n",
    "plt.legend(loc='upper left')\n",
    "plt.title('Stacked Area Chart of Global COVID-19 Cases')\n",
    "plt.xlabel('Date')\n",
    "plt.ylabel('Number of Cases')\n",
    "plt.tight_layout()\n",
    "plt.show()\n"
   ]
  },
  {
   "cell_type": "code",
   "execution_count": 1,
   "id": "c96a73cf",
   "metadata": {},
   "outputs": [
    {
     "ename": "NameError",
     "evalue": "name 'confirmed' is not defined",
     "output_type": "error",
     "traceback": [
      "\u001b[1;31m---------------------------------------------------------------------------\u001b[0m",
      "\u001b[1;31mNameError\u001b[0m                                 Traceback (most recent call last)",
      "Cell \u001b[1;32mIn[1], line 1\u001b[0m\n\u001b[1;32m----> 1\u001b[0m latest \u001b[38;5;241m=\u001b[39m \u001b[43mconfirmed\u001b[49m\u001b[38;5;241m.\u001b[39miloc[:, \u001b[38;5;241m-\u001b[39m\u001b[38;5;241m1\u001b[39m]  \u001b[38;5;66;03m# Last column\u001b[39;00m\n\u001b[0;32m      2\u001b[0m top_15 \u001b[38;5;241m=\u001b[39m latest\u001b[38;5;241m.\u001b[39msort_values(ascending\u001b[38;5;241m=\u001b[39m\u001b[38;5;28;01mFalse\u001b[39;00m)\u001b[38;5;241m.\u001b[39mhead(\u001b[38;5;241m15\u001b[39m)\n\u001b[0;32m      4\u001b[0m plt\u001b[38;5;241m.\u001b[39mfigure(figsize\u001b[38;5;241m=\u001b[39m(\u001b[38;5;241m10\u001b[39m,\u001b[38;5;241m6\u001b[39m))\n",
      "\u001b[1;31mNameError\u001b[0m: name 'confirmed' is not defined"
     ]
    }
   ],
   "source": [
    "latest = confirmed.iloc[:, -1]  # Last column\n",
    "top_15 = latest.sort_values(ascending=False).head(15)\n",
    "\n",
    "plt.figure(figsize=(10,6))\n",
    "sns.heatmap(np.log10(top_15.values).reshape(1, -1), \n",
    "            annot=True, fmt=\".2f\", \n",
    "            yticklabels=['Log(Confirmed Cases)'], \n",
    "            xticklabels=top_15.index, cmap='Reds')\n",
    "plt.title('Top 15 Countries with Highest Confirmed COVID-19 Cases')\n",
    "plt.tight_layout()\n",
    "plt.show()\n"
   ]
  },
  {
   "cell_type": "code",
   "execution_count": null,
   "id": "4c90674b",
   "metadata": {},
   "outputs": [],
   "source": []
  }
 ],
 "metadata": {
  "kernelspec": {
   "display_name": "Python 3 (ipykernel)",
   "language": "python",
   "name": "python3"
  },
  "language_info": {
   "codemirror_mode": {
    "name": "ipython",
    "version": 3
   },
   "file_extension": ".py",
   "mimetype": "text/x-python",
   "name": "python",
   "nbconvert_exporter": "python",
   "pygments_lexer": "ipython3",
   "version": "3.10.9"
  }
 },
 "nbformat": 4,
 "nbformat_minor": 5
}
